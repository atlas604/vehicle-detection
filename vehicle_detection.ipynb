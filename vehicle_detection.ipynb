{
 "cells": [
  {
   "cell_type": "code",
   "execution_count": 1,
   "metadata": {
    "collapsed": true
   },
   "outputs": [],
   "source": [
    "import matplotlib.image as mpimg\n",
    "import matplotlib.pyplot as plt\n",
    "import numpy as np\n",
    "import pickle\n",
    "import cv2\n",
    "import time\n",
    "\n",
    "from skimage.feature import hog\n",
    "from sklearn.model_selection import train_test_split\n",
    "from scipy.ndimage.measurements import label\n",
    "\n",
    "from lesson_functions import *"
   ]
  },
  {
   "cell_type": "code",
   "execution_count": 2,
   "metadata": {
    "collapsed": true
   },
   "outputs": [],
   "source": [
    "# import os\n",
    "\n",
    "# basedir = 'vehicles/'\n",
    "# image_types = os.listdir(basedir)\n",
    "\n",
    "# cars = []\n",
    "# for imtype in image_types:\n",
    "#         cars.extend(glob.glob(basedir+imtype+'/*'))\n",
    "\n",
    "# print ('Number of Vehicle Images found:', len(cars))\n",
    "# with open (\"cars.txt\", 'w') as f:\n",
    "#     for fn in cars:\n",
    "#         f.write(fn+'\\n')\n",
    "\n",
    "# basedir = 'non-vehicles/'\n",
    "# image_types = os.listdir(basedir)\n",
    "\n",
    "# notcars = []\n",
    "# for imtype in image_types:\n",
    "#         notcars.extend(glob.glob(basedir+imtype+'/*'))\n",
    "\n",
    "# print ('Number of Non-Vehicle Images found:', len(notcars))\n",
    "# with open (\"notcars.txt\", 'w') as f:\n",
    "#     for fn in notcars:\n",
    "#         f.write(fn+'\\n')"
   ]
  },
  {
   "cell_type": "code",
   "execution_count": 3,
   "metadata": {
    "collapsed": true
   },
   "outputs": [],
   "source": [
    "dist_pickle = pickle.load( open(\"svc_pickle.p\", \"rb\" ) )\n",
    "svc = dist_pickle[\"svc\"]\n",
    "X_scaler = dist_pickle[\"scaler\"]\n",
    "orient = dist_pickle[\"orient\"]\n",
    "pix_per_cell = dist_pickle[\"pix_per_cell\"]\n",
    "cell_per_block = dist_pickle[\"cell_per_block\"]\n",
    "spatial_size = dist_pickle[\"spatial_size\"]\n",
    "hist_bins = dist_pickle[\"hist_bins\"]\n",
    "color_space = dist_pickle[\"color_space\"]\n",
    "hog_channel = dist_pickle[\"hog_channel\"]\n",
    "spatial_feat = dist_pickle[\"spatial_feat\"]\n",
    "hist_feat = dist_pickle[\"hist_feat\"]\n",
    "hog_feat = dist_pickle[\"hog_feat\"]"
   ]
  },
  {
   "cell_type": "code",
   "execution_count": 4,
   "metadata": {
    "collapsed": true,
    "scrolled": true
   },
   "outputs": [],
   "source": [
    "# import glob\n",
    "\n",
    "# searchpath = './test_images/*'\n",
    "# example_images = glob.glob(searchpath)\n",
    "\n",
    "# images = []\n",
    "# titles = [] \n",
    "\n",
    "# for img_src in example_images:\n",
    "#     t1 = time.time()\n",
    "#     img = mpimg.imread(img_src)\n",
    "#     image = img.astype(np.float32)/255     # png images (scaled 0 to 1 by mpimg) -> jpg (scaled 0 to 255)\n",
    "#     print(np.min(image), np.max(image))\n",
    "    \n",
    "#     mid = slide_window(image, x_start_stop=[None, None], y_start_stop=[400, 656], \n",
    "#                       xy_window=(96, 96), xy_overlap=(0.8, 0.8))\n",
    "#     front = slide_window(image, x_start_stop=[None, None], y_start_stop=[496, 656], \n",
    "#                       xy_window=(160, 160), xy_overlap=(0.8, 0.8))\n",
    "    \n",
    "#     hot_windows1 = search_windows(image, mid, svc, X_scaler, color_space=color_space, \n",
    "#                         spatial_size=spatial_size, hist_bins=hist_bins, \n",
    "#                         orient=orient, pix_per_cell=pix_per_cell, \n",
    "#                         cell_per_block=cell_per_block, \n",
    "#                         hog_channel=hog_channel, spatial_feat=spatial_feat, \n",
    "#                         hist_feat=hist_feat, hog_feat=hog_feat) \n",
    "#     hot_windows2 = search_windows(image, front, svc, X_scaler, color_space=color_space, \n",
    "#                         spatial_size=spatial_size, hist_bins=hist_bins, \n",
    "#                         orient=orient, pix_per_cell=pix_per_cell, \n",
    "#                         cell_per_block=cell_per_block, \n",
    "#                         hog_channel=hog_channel, spatial_feat=spatial_feat, \n",
    "#                         hist_feat=hist_feat, hog_feat=hog_feat) \n",
    "\n",
    "#     # window_img = draw_boxes(img, hot_windows1, color=(0, 0, 255), thick=6)\n",
    "#     # window_img = draw_boxes(window_img, hot_windows2, color=(0, 0, 255), thick=6)\n",
    "#     heat_map = np.zeros_like(img[:,:,0])\n",
    "#     heat_map = add_heat(heat_map, hot_windows1)\n",
    "#     heat_map = add_heat(heat_map, hot_windows2)\n",
    "#     # heat_map = apply_threshold(heat_map, 2)\n",
    "#     labels = label(heat_map)\n",
    "#     draw_img = draw_labeled_bboxes(np.copy(img), labels)\n",
    "#     images.append(draw_img)\n",
    "#     images.append(heat_map)\n",
    "    \n",
    "#     titles.append('')\n",
    "#     titles.append('')\n",
    "#     print(time.time()-t1, 'seconds to process one image, searching', (len(mid)+len(front)),'windows')\n",
    "\n",
    "# fig = plt.figure(figsize=(15,25))\n",
    "# visualize(fig, 6, 2, images, titles)\n",
    "# plt.show()"
   ]
  },
  {
   "cell_type": "code",
   "execution_count": 5,
   "metadata": {},
   "outputs": [],
   "source": [
    "# import glob\n",
    "\n",
    "# searchpath = './test_images/*'\n",
    "# example_images = glob.glob(searchpath)\n",
    "\n",
    "# out_images = []\n",
    "# out_titles = []\n",
    "\n",
    "\n",
    "\n",
    "# for img_src in example_images:\n",
    "#     img = mpimg.imread(img_src)\n",
    "#     allheat = []\n",
    "#     ystart = 400 \n",
    "#     ystop = 528\n",
    "#     scale = 1\n",
    "#     out_img, heat_map = find_cars(img, ystart, ystop, scale, svc, X_scaler, orient, pix_per_cell, cell_per_block, spatial_size, hist_bins)\n",
    "    \n",
    "    \n",
    "#     #heat_map = apply_threshold(heat_map,1)\n",
    "#     heat_map = np.clip(heat_map, 0, 255)\n",
    "#     labels = label(heat_map)\n",
    "#     draw_img = draw_labeled_bboxes(np.copy(img), labels)\n",
    "#     out_images.append(draw_img)\n",
    "#     out_images.append(heat_map)\n",
    "#     out_titles.append(img_src[-12:])\n",
    "#     out_titles.append(img_src[-12:])\n",
    "#     # print(type(heatmap))\n",
    "#     # print(heatmap)\n",
    "\n",
    "# fig = plt.figure(figsize=(12,24))\n",
    "\n",
    "# visualize(fig, 6, 2, out_images, out_titles)\n",
    "# plt.show()"
   ]
  },
  {
   "cell_type": "code",
   "execution_count": 6,
   "metadata": {
    "collapsed": true
   },
   "outputs": [],
   "source": [
    "from collections import deque\n",
    "history = deque(maxlen=20) \n",
    "\n",
    "def process_video(img):\n",
    "    ystart = 400 \n",
    "    ystop = 528\n",
    "    scale = 1\n",
    "    out_img, heat_map = find_cars(img, ystart, ystop, scale, svc, X_scaler, orient, pix_per_cell, cell_per_block, spatial_size, hist_bins)\n",
    "    # heat_map = apply_threshold(heat_map, 2)\n",
    "    history.append(heat_map)\n",
    "    ystart = 400 \n",
    "    ystop = 656\n",
    "    scale = 1.5\n",
    "    out_img, heat_map = find_cars(img, ystart, ystop, scale, svc, X_scaler, orient, pix_per_cell, cell_per_block, spatial_size, hist_bins)\n",
    "    heat_map = apply_threshold(heat_map, 1)\n",
    "    history.append(heat_map)\n",
    "    if len(history) < 20:\n",
    "        labels = label(heat_map)\n",
    "    else:\n",
    "        heatmap_sum = sum(history)\n",
    "        heatmap_sum = np.clip(heatmap_sum, 0, 255)\n",
    "        labels = label(heatmap_sum)\n",
    "    # Draw bounding boxes\n",
    "    draw_img = draw_labeled_bboxes(np.copy(img), labels)\n",
    "    return draw_img"
   ]
  },
  {
   "cell_type": "code",
   "execution_count": 7,
   "metadata": {
    "collapsed": true
   },
   "outputs": [],
   "source": [
    "# from collections import deque\n",
    "# history = deque(maxlen=8) \n",
    "\n",
    "# def process_video(img):\n",
    "\n",
    "#     image = img.astype(np.float32)/255\n",
    "\n",
    "#     mid = slide_window(image, x_start_stop=[None, None], y_start_stop=[400, 656], \n",
    "#                       xy_window=(96, 96), xy_overlap=(0.8, 0.8))\n",
    "#     front = slide_window(image, x_start_stop=[None, None], y_start_stop=[496, 656], \n",
    "#                       xy_window=(160, 160), xy_overlap=(0.8, 0.8))\n",
    "    \n",
    "#     hot_windows1 = search_windows(image, mid, svc, X_scaler, color_space=color_space, \n",
    "#                         spatial_size=spatial_size, hist_bins=hist_bins, \n",
    "#                         orient=orient, pix_per_cell=pix_per_cell, \n",
    "#                         cell_per_block=cell_per_block, \n",
    "#                         hog_channel=hog_channel, spatial_feat=spatial_feat, \n",
    "#                         hist_feat=hist_feat, hog_feat=hog_feat) \n",
    "#     hot_windows2 = search_windows(image, front, svc, X_scaler, color_space=color_space, \n",
    "#                         spatial_size=spatial_size, hist_bins=hist_bins, \n",
    "#                         orient=orient, pix_per_cell=pix_per_cell, \n",
    "#                         cell_per_block=cell_per_block, \n",
    "#                         hog_channel=hog_channel, spatial_feat=spatial_feat, \n",
    "#                         hist_feat=hist_feat, hog_feat=hog_feat) \n",
    "    \n",
    "#     heatmap = np.zeros_like(img[:,:,0])\n",
    "#     heat_map = add_heat(heatmap, hot_windows1)\n",
    "#     heat_map = add_heat(heat_map, hot_windows2)\n",
    "#     heat_map = apply_threshold(heat_map, 1)\n",
    "#     history.append(heat_map)\n",
    "#     if len(history) < 10:       \n",
    "#         labels = label(heat_map)\n",
    "#     else:\n",
    "#         heatmap_sum = sum(history)\n",
    "#         labels = label(heatmap_sum)\n",
    "#     draw_img = draw_labeled_bboxes(np.copy(img), labels)\n",
    "\n",
    "#     return draw_img"
   ]
  },
  {
   "cell_type": "code",
   "execution_count": 8,
   "metadata": {
    "collapsed": true
   },
   "outputs": [],
   "source": [
    "from moviepy.editor import VideoFileClip\n",
    "from IPython.display import HTML"
   ]
  },
  {
   "cell_type": "code",
   "execution_count": 9,
   "metadata": {
    "collapsed": true
   },
   "outputs": [],
   "source": [
    "# test_output = 'test_video_output.mp4'\n",
    "# clip = VideoFileClip(\"test_video.mp4\")\n",
    "# test_clip = clip.fl_image(process_video)\n",
    "# test_clip.write_videofile(test_output, audio=False)"
   ]
  },
  {
   "cell_type": "code",
   "execution_count": 10,
   "metadata": {},
   "outputs": [
    {
     "name": "stdout",
     "output_type": "stream",
     "text": [
      "[MoviePy] >>>> Building video project_video_output.mp4\n",
      "[MoviePy] Writing video project_video_output.mp4\n"
     ]
    },
    {
     "name": "stderr",
     "output_type": "stream",
     "text": [
      "100%|█████████████████████████████████████████████████████████████████████████████▉| 1260/1261 [21:59<00:01,  1.04s/it]\n"
     ]
    },
    {
     "name": "stdout",
     "output_type": "stream",
     "text": [
      "[MoviePy] Done.\n",
      "[MoviePy] >>>> Video ready: project_video_output.mp4 \n",
      "\n"
     ]
    }
   ],
   "source": [
    "video_output = 'project_video_output.mp4'\n",
    "clip1 = VideoFileClip(\"project_video.mp4\")\n",
    "video_clip = clip1.fl_image(process_video)\n",
    "video_clip.write_videofile(video_output, audio=False)"
   ]
  },
  {
   "cell_type": "code",
   "execution_count": null,
   "metadata": {
    "collapsed": true
   },
   "outputs": [],
   "source": []
  }
 ],
 "metadata": {
  "kernelspec": {
   "display_name": "Python 3",
   "language": "python",
   "name": "python3"
  },
  "language_info": {
   "codemirror_mode": {
    "name": "ipython",
    "version": 3
   },
   "file_extension": ".py",
   "mimetype": "text/x-python",
   "name": "python",
   "nbconvert_exporter": "python",
   "pygments_lexer": "ipython3",
   "version": "3.5.2"
  },
  "widgets": {
   "state": {},
   "version": "1.1.2"
  }
 },
 "nbformat": 4,
 "nbformat_minor": 2
}
